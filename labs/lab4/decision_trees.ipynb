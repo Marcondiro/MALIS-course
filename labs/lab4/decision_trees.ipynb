{
 "cells": [
  {
   "cell_type": "markdown",
   "metadata": {
    "colab_type": "text",
    "id": "_Fc-cAAWOp4k"
   },
   "source": [
    "# Decision Trees"
   ]
  },
  {
   "cell_type": "markdown",
   "metadata": {},
   "source": [
    "In this part of the lab session are based on the mushrooms dataset that can be found at https://archive.ics.uci.edu/ml/datasets/mushroom. Data come from *Mushroom records drawn from The Audubon Society Field Guide to North American Mushrooms* (1981) by G. H. Lincoff. This data set includes descriptions of hypothetical samples corresponding to 23 species of gilled mushrooms in the Agaricus and Lepiota Family (pp. 500-525). Each species is identified as definitely edible, definitely poisonous, or of unknown edibility and not recommended. This latter class was combined with the poisonous one. **The Guide clearly states that there is no simple rule for determining the edibility of a mushroom**.\n",
    "\n",
    "You will use the following attributes to classify mushrooms between edible and poisonous.\n",
    "\n",
    "<table>\n",
    "    <tbody>\n",
    "        <tr>\n",
    "            <th><p>Attributes</p></th>\n",
    "            <th><p>Possible Values</p></th>\n",
    "            <th><p>Nb Values</p></th>\n",
    "        </tr>\n",
    "        <tr>\n",
    "            <td><p>class</p></td>\n",
    "            <td><p>edible=e,poisonous=p</p></td>\n",
    "            <td><p>2</p></td>\n",
    "        </tr>\n",
    "        <tr>\n",
    "            <td><p>cap-shape</p></td>\n",
    "            <td><p>bell=b,conical=c,convex=x,flat=f,knobbed=k,sunken=s</p></td>\n",
    "            <td><p>6</p></td>\n",
    "        </tr>\n",
    "        <tr>\n",
    "            <td><p>cap-surface</p></td>\n",
    "            <td><p>fibrous=f,grooves=g,scaly=y,smooth=s</p></td>\n",
    "            <td><p>4</p></td>\n",
    "        </tr>\n",
    "        <tr>\n",
    "            <td><p>cap-color</p></td>\n",
    "            <td><p>brown=n,buff=b,cinnamon=c,gray=g,green=r,pink=p,purple=u,red=e,white=w,yellow=y</p></td>\n",
    "            <td><p>10</p></td>\n",
    "        </tr>\n",
    "        <tr>\n",
    "            <td><p>bruises?</p></td>\n",
    "            <td><p>bruises=t,no=f</p></td>\n",
    "            <td><p>2</p></td>\n",
    "        </tr>\n",
    "        <tr>\n",
    "            <td><p>odor</p></td>\n",
    "            <td><p>almond=a,anise=l,creosote=c,fishy=y,foul=f,musty=m,none=n,pungent=p,spicy=s</p></td>\n",
    "            <td><p>9</p></td>\n",
    "        </tr>\n",
    "        <tr>\n",
    "            <td><p>gill-attachment</p></td>\n",
    "            <td><p>attached=a,descending=d,free=f,notched=n</p></td>\n",
    "            <td><p>4</p></td>\n",
    "        </tr>\n",
    "        <tr>\n",
    "            <td><p>gill-spacing</p></td>\n",
    "            <td><p>close=c,crowded=w,distant=d</p></td>\n",
    "            <td><p>3</p></td>\n",
    "        </tr>\n",
    "        <tr>\n",
    "            <td><p>gill-size</p></td>\n",
    "            <td><p>broad=b,narrow=n</p></td>\n",
    "            <td><p>2</p></td>\n",
    "        </tr>\n",
    "        <tr>\n",
    "            <td><p>gill-color</p></td>\n",
    "            <td><p>black=k,brown=n,buff=b,chocolate=h,gray=g,green=r,orange=o,pink=p,purple=u,red=e,white=w,yellow=y</p></td>\n",
    "            <td><p>12</p></td>\n",
    "        </tr>\n",
    "        <tr>\n",
    "            <td><p>stalk-shape</p></td>\n",
    "            <td><p>enlarging=e,tapering=t</p></td>\n",
    "            <td><p>2</p></td>\n",
    "        </tr>\n",
    "        <tr>\n",
    "            <td><p>stalk-root</p></td>\n",
    "            <td><p>bulbous=b,club=c,cup=u,equal=e,rhizomorphs=z,rooted=r,missing=?</p></td>\n",
    "            <td><p>7</p></td>\n",
    "        </tr>\n",
    "        <tr>\n",
    "            <td><p>stalk-surface-above-ring</p></td>\n",
    "            <td><p>fibrous=f,scaly=y,silky=k,smooth=s</p></td>\n",
    "            <td><p>4</p></td>\n",
    "        </tr>\n",
    "        <tr>\n",
    "            <td><p>stalk-surface-below-ring</p></td>\n",
    "            <td><p>fibrous=f,scaly=y,silky=k,smooth=s</p></td>\n",
    "            <td><p>4</p></td>\n",
    "        </tr>\n",
    "        <tr>\n",
    "            <td><p>stalk-color-above-ring</p></td>\n",
    "            <td><p>brown=n,buff=b,cinnamon=c,gray=g,orange=o,pink=p,red=e,white=w,yellow=y</p></td>\n",
    "            <td><p>9</p></td>\n",
    "        </tr>\n",
    "        <tr>\n",
    "            <td><p>stalk-color-below-ring</p></td>\n",
    "            <td><p>brown=n,buff=b,cinnamon=c,gray=g,orange=o,pink=p,red=e,white=w,yellow=y</p></td>\n",
    "            <td><p>9</p></td>\n",
    "        </tr>\n",
    "        <tr>\n",
    "            <td><p>veil-type</p></td>\n",
    "            <td><p>partial=p,universal=u</p></td>\n",
    "            <td><p>2</p></td>\n",
    "        </tr>\n",
    "        <tr>\n",
    "            <td><p>veil-color</p></td>\n",
    "            <td><p>brown=n,orange=o,white=w,yellow=y</p></td>\n",
    "            <td><p>4</p></td>\n",
    "        </tr>\n",
    "        <tr>\n",
    "            <td><p>ring-number</p></td>\n",
    "            <td><p>none=n,one=o,two=t</p></td>\n",
    "            <td><p>3</p></td>\n",
    "        </tr>\n",
    "        <tr>\n",
    "            <td><p>ring-type</p></td>\n",
    "            <td><p>cobwebby=c,evanescent=e,flaring=f,large=l,none=n,pendant=p,sheathing=s,zone=z</p></td>\n",
    "            <td><p>8</p></td>\n",
    "        </tr>\n",
    "        <tr>\n",
    "            <td><p>spore-print-color</p></td>\n",
    "            <td><p>black=k,brown=n,buff=b,chocolate=h,green=r,orange=o,purple=u,white=w,yellow=y</p></td>\n",
    "            <td><p>9</p></td>\n",
    "        </tr>\n",
    "        <tr>\n",
    "            <td><p>population</p></td>\n",
    "            <td><p>abundant=a,clustered=c,numerous=n,scattered=s,several=v,solitary=y</p></td>\n",
    "            <td><p>6</p></td>\n",
    "        </tr>\n",
    "        <tr>\n",
    "            <td><p>habitat</p></td>\n",
    "            <td><p>grasses=g,leaves=l,meadows=m,paths=p,urban=u,waste=w,woods=d</p></td>\n",
    "            <td><p>7</p></td>\n",
    "        </tr>\n",
    "    </tbody>\n",
    "</table>\n",
    "\n",
    "All the questions that will be asked in your decision trees will be in the form \"is (ATTRIBUTE) equal to (VALUE)?\". Therefore, you will have a total number of 126 possible questions. We divide the dataset into a training set of size 7124 and a test set of size 1000.\n",
    "\n",
    "In the first part, you will have to complete missing parts of a code implementing decision trees. In the second part, you will make some experiments on the Mushrooms dataset.\n",
    "\n",
    "Run the following cell to import relevant libraries, classes and functions."
   ]
  },
  {
   "cell_type": "code",
   "execution_count": 1,
   "metadata": {},
   "outputs": [],
   "source": [
    "print_solutions=True\n",
    "\n",
    "import math\n",
    "import random\n",
    "import matplotlib.pyplot as plt\n",
    "import numpy as np\n",
    "from utils import Dataset, Sample, Tree, equals, import_data, accuracy\n",
    "log2 = lambda x: 0 if x <= 0 else math.log(x, 2)"
   ]
  },
  {
   "cell_type": "markdown",
   "metadata": {},
   "source": [
    "## Part 1: Implementing Decision Trees\n",
    "\n",
    "In this lab, you will work with the Sample, Dataset and Tree classes. The Sample class represents a mushroom. Its attribute \"is_positive\" will be True when the mushroom is edible and False if it is poisonous. The Dataset class represents a set of mushrooms. The Tree class actually represents a node of a Decision Tree. We strongly advise you to have a look at these classes (in the utils.py file) to understand well how they work.\n",
    "\n",
    "### Task 1.1\n",
    "    \n",
    "Implement the *compute_entropy()* function and read the *split()* function of the Dataset class."
   ]
  },
  {
   "cell_type": "code",
   "execution_count": 2,
   "metadata": {},
   "outputs": [],
   "source": [
    "def compute_entropy(self):\n",
    "    '''\n",
    "    Computes the fraction of edible mushrooms in a dataset\n",
    "        p_poisonous + p_edible = 1\n",
    "    \n",
    "        p_edible is the percentage of edible mushrooms\n",
    "        p_poisonous is the percentage of poisonous ones\n",
    "    \n",
    "    With those computed probabilities the function computes the entropy of a set of mushrooms:\n",
    "    entropy =  -p_edible*log2(p_edible) -p_poisonous*log2(p_poisonous) if there are samples in the dataset\n",
    "    entropy = 0 if there are no samples\n",
    "    \n",
    "    INPUTS :\n",
    "    - self which contains\n",
    "        - self.len : the lenth in samples of a dataset\n",
    "        - self.data : a set of length self.len and which contains elements of class Sample\n",
    "            to address the elements in self.data use a loop (e.g for element in self.data : ...)\n",
    "            the Sample class contains the attribute is_positive which is True if that sample is edible\n",
    "            (using previous for loop do element.is_positive to see if that element is edible)\n",
    "            \n",
    "    \n",
    "    OUTPUTS : \n",
    "    - entropy : a numerical value\n",
    "    '''\n",
    "    \n",
    "    ###################### YOUR CODE ###################\n",
    "    if self.len == 0:\n",
    "        entropy = 0\n",
    "    else:\n",
    "        edible = 0\n",
    "        for sample in self.data:\n",
    "            edible += int(sample.is_positive)\n",
    "        poisonous = self.len - edible\n",
    "\n",
    "        if edible == 0 or poisonous == 0:\n",
    "            entropy = 0\n",
    "        else:\n",
    "            p_edible = edible / self.len\n",
    "            p_poisonous = poisonous / self.len\n",
    "            entropy = -p_edible*math.log2(p_edible) -p_poisonous*math.log2(p_poisonous)\n",
    "    ################### END YOUR CODE ##################\n",
    "    \n",
    "    return entropy\n",
    "\n",
    "Dataset.compute_entropy = compute_entropy"
   ]
  },
  {
   "cell_type": "markdown",
   "metadata": {},
   "source": [
    "The function below performs the split of a node using the `compute_entropy` function you just coded."
   ]
  },
  {
   "cell_type": "code",
   "execution_count": 3,
   "metadata": {},
   "outputs": [],
   "source": [
    "def split(self, attribute, value, function):\n",
    "    '''\n",
    "    Split a dataset into two datasets (pos_set and neg_set) according to a question on a particular attribute and value\n",
    "    \n",
    "    Given a sample x in self.data, answer the question is function(x.attributes[attribute], value).\n",
    "    If the answer is positive, x is added to pos_set, otherwise to neg_set\n",
    "    '''\n",
    "    if not self.len: # If the dataset is empty, we return default values\n",
    "        return set(), set(), 0.\n",
    "    \n",
    "    pos_set=set()\n",
    "    neg_set=set()\n",
    "    \n",
    "    for x in self.data:\n",
    "        if function(x.attributes[attribute], value) == True:\n",
    "            pos_set.add(x)\n",
    "        else:\n",
    "            neg_set.add(x)\n",
    "            \n",
    "    pos_set=Dataset(pos_set)\n",
    "    neg_set=Dataset(neg_set)\n",
    "    \n",
    "    \n",
    "    split_entropy = len(pos_set)/self.len*pos_set.compute_entropy()+len(neg_set)/self.len*neg_set.compute_entropy()\n",
    "    return pos_set, neg_set, split_entropy\n",
    "\n",
    "Dataset.split = split"
   ]
  },
  {
   "cell_type": "markdown",
   "metadata": {},
   "source": [
    "<h1>Part 2: Detecting edible mushrooms</h1>\n",
    "\n",
    "In this part you will run your code on the Mushrooms dataset. First of all, run the following cell to import data."
   ]
  },
  {
   "cell_type": "code",
   "execution_count": 4,
   "metadata": {},
   "outputs": [
    {
     "name": "stdout",
     "output_type": "stream",
     "text": [
      "7124 1000\n"
     ]
    }
   ],
   "source": [
    "train_set, test_set, questions_set = import_data()\n",
    "print(len(train_set), len(test_set))"
   ]
  },
  {
   "cell_type": "markdown",
   "metadata": {},
   "source": [
    "### Question 2.1\n",
    "Run the following cell to build a decision tree of depth 1 based on the Mushrooms training dataset. \n",
    "What is the most informing question to ask?"
   ]
  },
  {
   "cell_type": "code",
   "execution_count": 5,
   "metadata": {},
   "outputs": [
    {
     "name": "stdout",
     "output_type": "stream",
     "text": [
      "(odor equals n? Entropy gain = 0.76)\n",
      "\t---> True (p_positive = 96.37 %)\n",
      "\t---> False (p_positive = 4.03 %)\n",
      "\n"
     ]
    }
   ],
   "source": [
    "tree = Tree(questions_set, Dataset(train_set), 1)\n",
    "print(tree)"
   ]
  },
  {
   "cell_type": "markdown",
   "metadata": {},
   "source": [
    "#### Your answer\n",
    "The most informing question is: _\"Is `odor` equal to `n`?\"_ in other words _\"Does the mushroom have odor not?\"_.  \n",
    "Using this question to split the dataset we obtain a dataset of non odorous mushrooms containing ~96% of edible mushrooms and a dataset of odorous mushrooms containing ~96% of poisonous mushrooms."
   ]
  },
  {
   "cell_type": "markdown",
   "metadata": {},
   "source": [
    "### Question 2.2\n",
    "Now run the following cell to build decision trees of maximum depth 0 to 8 and plot their accuracies and maximum depths. What do you notice? Explain your observations."
   ]
  },
  {
   "cell_type": "code",
   "execution_count": 6,
   "metadata": {},
   "outputs": [
    {
     "data": {
      "image/png": "[encoded data removed]",
      "text/plain": [
       "<Figure size 432x288 with 1 Axes>"
      ]
     },
     "metadata": {
      "needs_background": "light"
     },
     "output_type": "display_data"
    },
    {
     "data": {
      "image/png": "[encoded data removed]",
      "text/plain": [
       "<Figure size 432x288 with 1 Axes>"
      ]
     },
     "metadata": {
      "needs_background": "light"
     },
     "output_type": "display_data"
    }
   ],
   "source": [
    "trees = [Tree(questions_set, Dataset(train_set), i) for i in range(9)]\n",
    "accuracies = [accuracy(trees[i], test_set) for i in range(9)]\n",
    "depths = [trees[i].get_size() for i in range(9)]\n",
    "\n",
    "plt.plot(list(range(9)), accuracies, 'ro')\n",
    "plt.ylabel('Test Accuracy')\n",
    "plt.xlabel('Maximum tree depth')\n",
    "plt.axis([0, 9, 0, 1.1])\n",
    "plt.show()\n",
    "\n",
    "plt.plot(list(range(9)), depths, 'bo')\n",
    "plt.ylabel('Actual tree depth')\n",
    "plt.xlabel('Maximum tree depth')\n",
    "plt.axis([0, 9, 0, 9])\n",
    "plt.show()"
   ]
  },
  {
   "cell_type": "markdown",
   "metadata": {},
   "source": [
    "#### Your answer\n",
    "The first thing that we notice is that the tree with depth 1 has really poor performances on the test set even if it was performing quite well on the training set.\n",
    "Its accuracy on the training set is ~96% while on the test set it is lower than 40% meaning that the tree is heavily overfitting the trainig set.\n",
    "Therefore the decision tree is capturing a characteristic that is only present in the training set and not in the test set.\n",
    "\n",
    "We can also notice that increasing the maximum tree depth to more than 5 has no effect since the leaves are pure already and consequently their entropy is 0.\n",
    "Therefore the accuracy in the first plot reaches a plateau and the algorithm does not produce any further splits as shown by the second plot.\n",
    "We can deduct that we need at most 2<sup>5-1</sup> = 16 questions to properly classify a mushroom between the 126 possible questions, and therefore we need at most 16 of the attributes present in the dataset.\n",
    "\n",
    "With increasing tree-depth, we would expect the decision trees to overfit heavily on the training data but in this case they do not as can be seen on the test accuracy.\n",
    "This is due to the fact, that the trees stop growing in actual depth even though they could grow more."
   ]
  },
  {
   "cell_type": "markdown",
   "metadata": {},
   "source": [
    "### Question 2.3\n",
    "\n",
    "For the following you will work with a tree of depth 5. Run the following cell to build it and print it.\n",
    "\n",
    "Which questions can actually be useful to ask to detect the edibility of a mushroom?\n"
   ]
  },
  {
   "cell_type": "code",
   "execution_count": 7,
   "metadata": {},
   "outputs": [
    {
     "name": "stdout",
     "output_type": "stream",
     "text": [
      "(odor equals n? Entropy gain = 0.76)\n",
      "\t(spore-print-color equals r? Entropy gain = 0.11)\n",
      "\t\t---> False (p_positive = 0.0 %)\n",
      "\t\t(stalk-surface-below-ring equals y? Entropy gain = 0.07)\n",
      "\t\t\t(ring-number equals o? Entropy gain = 0.86)\n",
      "\t\t\t\t---> False (p_positive = 0.0 %)\n",
      "\t\t\t\t---> True (p_positive = 100.0 %)\n",
      "\t\t\t(gill-size equals n? Entropy gain = 0.01)\n",
      "\t\t\t\t(population equals c? Entropy gain = 0.35)\n",
      "\t\t\t\t\t---> False (p_positive = 0.0 %)\n",
      "\t\t\t\t\t---> True (p_positive = 100.0 %)\n",
      "\t\t\t\t---> True (p_positive = 100.0 %)\n",
      "\t(bruises equals t? Entropy gain = 0.11)\n",
      "\t\t(stalk-root equals c? Entropy gain = 0.39)\n",
      "\t\t\t---> True (p_positive = 100.0 %)\n",
      "\t\t\t(stalk-surface-below-ring equals y? Entropy gain = 0.27)\n",
      "\t\t\t\t---> True (p_positive = 100.0 %)\n",
      "\t\t\t\t(gill-spacing equals c? Entropy gain = 0.24)\n",
      "\t\t\t\t\t---> False (p_positive = 0.0 %)\n",
      "\t\t\t\t\t---> True (p_positive = 100.0 %)\n",
      "\t\t---> False (p_positive = 0.0 %)\n",
      "\n"
     ]
    }
   ],
   "source": [
    "tree = Tree(questions_set, Dataset(train_set), 5)\n",
    "print(tree)"
   ]
  },
  {
   "cell_type": "markdown",
   "metadata": {
    "tags": []
   },
   "source": [
    "#### Your answer\n",
    "The whole set of questions posed by the model to evaluate the edibility of the mushrooms (indeed useful) are:\n",
    "- _\"Is `odor` equal to `n`?\"_  \n",
    "  in other words _\"Does the mushroom have odor or not?\"_\n",
    "- _\"Is `spore-print-color` equal to `r`?\"_  \n",
    "  in other words _\"Is the mushroom spore print green?\"_\n",
    "- _\"Is `stalk-surface-below-ring` equal to `y`?\"_  \n",
    "  in other words _\"Is the mushroom stalk surface below ring scaly?\"_\n",
    "- _\"Is `population` equal to `y`?_  \n",
    "  in other words _\"Is the mushroom solitary?\"_\n",
    "- _\"Is `gill-size` equal to `b`?\"_  \n",
    "  in other words _\"Is the size of the gill broad?\"_\n",
    "- _\"Is `bruises` equal to `f`?\"_  \n",
    "  in other words _\"Does the mushroom present bruises?\"_\n",
    "- _\"Is `stalk-root` equal to`c`?\"_  \n",
    "  in other words _\"Does the stalk-root have the shape of a club?\"_\n",
    "- _\"Is `stalk-root` equals to `r`?\"_  \n",
    "  in other words _\"Is the stalk-root rooted?\"_\n",
    "- _\"Is `gill-spacing` equal to `w`?\"_  \n",
    "  in other words _\"Is the gill spacing crowded?\"_\n",
    "\n",
    "Depending on the answers, and therefore from the path of the tree taken, not all questions are always necessary to classify a mushroom."
   ]
  },
  {
   "cell_type": "markdown",
   "metadata": {},
   "source": []
  }
 ],
 "metadata": {
  "kernelspec": {
   "display_name": "Python 3 (ipykernel)",
   "language": "python",
   "name": "python3"
  },
  "language_info": {
   "codemirror_mode": {
    "name": "ipython",
    "version": 3
   },
   "file_extension": ".py",
   "mimetype": "text/x-python",
   "name": "python",
   "nbconvert_exporter": "python",
   "pygments_lexer": "ipython3",
   "version": "3.9.12"
  },
  "vscode": {
   "interpreter": {
    "hash": "fd137f237574e5059c6c509caaf82d71751228476fdccb595b9efd59ed72e898"
   }
  }
 },
 "nbformat": 4,
 "nbformat_minor": 4
}
