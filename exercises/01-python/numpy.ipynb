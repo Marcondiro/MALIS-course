{
 "cells": [
  {
   "cell_type": "markdown",
   "id": "267a0aa7-50d1-426d-87aa-443b9c1c7877",
   "metadata": {},
   "source": [
    "# NumPy Basics\n",
    "\n",
    "In this tutorial, you will become familiar with the use of numpy. NumPy is an open source project aiming to enable numerical computing with Python. It was created in 2005, building on the early work of the Numeric and Numarray libraries. It is a powerful library that offers comprehensive mathematical functions, random number generators, linear algebra routines, Fourier transforms, among others. Most importantly for this course, it provides support for large, multi-dimensional arrays and matrices, along with its large collection of high-level mathematical functions to operate on these arrays. \n",
    "\n",
    "Before getting started with NumPy, let us first introduce the concept of libraries.\n",
    "\n",
    "## 1. Libraries\n",
    "A Python library is a collection of functions and methods that allows you to perform many actions without writing your own code. To make use of a given library you need to import it.\n",
    "\n",
    "### Different ways to importing a library\n",
    "To import libraries use\n",
    "```python\n",
    "import library_name\n",
    "```\n",
    "\n",
    "If you want to refer to the library using a custom name you can use the reserved word as ...\n",
    "\n",
    "```python\n",
    "import library_name as abbreviation_you_want\n",
    "```\n",
    "\n",
    "To call a function inside a library write library_name.function_name(parameters) (or if you have used an abbreviation abbreviation_you_want.function_name(parameters))\n",
    "\n",
    "If you want to import only some functions or modules within the library use\n",
    "\n",
    "```python\n",
    "from library_name import function_name1, function_name2\n",
    "```\n",
    "\n",
    "## 2. NumPy: The Basics\n",
    "NumPy’s main object is the homogeneous multidimensional array. It is a table of elements (usually numbers), all of the same type, indexed by a tuple of non-negative integers. In NumPy dimensions are called axes. NumPy’s array class is called `ndarray`. It is also known by the alias `array`.\n",
    "\n",
    "**Examples:** Run the cells below"
   ]
  },
  {
   "cell_type": "code",
   "execution_count": 1,
   "id": "d987c146-389d-4a67-a52b-4671d7f02d98",
   "metadata": {},
   "outputs": [
    {
     "name": "stdout",
     "output_type": "stream",
     "text": [
      "The array [1 2 3] has 1 dimension, with elements of type \n",
      "The elements of  [1 2 3] are of type int32\n"
     ]
    }
   ],
   "source": [
    "import numpy as np #Importing numpy and using np as its alias\n",
    "\n",
    "oneD_array = np.array([1,2,3])\n",
    "print('The array', oneD_array, 'has', oneD_array.ndim, 'dimension, with elements of type ') #The attribute ndim allows to obtain the axes (dimensions) of an array\n",
    "print('The elements of ', oneD_array, 'are of type', oneD_array.dtype) #dtype provides information about the type of the elements in the array"
   ]
  },
  {
   "cell_type": "code",
   "execution_count": 2,
   "id": "96ae85c2-dd19-43c8-a628-0a9079b57b84",
   "metadata": {},
   "outputs": [
    {
     "data": {
      "text/plain": [
       "array([[ 0,  1,  2,  3,  4],\n",
       "       [ 5,  6,  7,  8,  9],\n",
       "       [10, 11, 12, 13, 14]])"
      ]
     },
     "execution_count": 2,
     "metadata": {},
     "output_type": "execute_result"
    }
   ],
   "source": [
    "twoD_array = np.arange(15).reshape(3, 5) #We create a range from 0 to 14, i.e. a sequence, and we rearrange them in a 2D array of 3 x 5\n",
    "twoD_array"
   ]
  },
  {
   "cell_type": "code",
   "execution_count": 3,
   "id": "8382efc1-b115-4c63-95e2-2df07a945414",
   "metadata": {},
   "outputs": [
    {
     "name": "stdout",
     "output_type": "stream",
     "text": [
      "This array has 2 dimensions, with shape (3, 5)\n"
     ]
    }
   ],
   "source": [
    "print('This array has', twoD_array.ndim, 'dimensions, with shape', twoD_array.shape) #Shape tells us about the dimensions of the array"
   ]
  },
  {
   "cell_type": "markdown",
   "id": "1e758adf-967d-4dec-b1ef-e7b5ef8dc1df",
   "metadata": {},
   "source": [
    "### Creating arrays\n",
    "`array` transforms sequences of sequences into two-dimensional arrays, sequences of sequences of sequences into three-dimensional arrays, and so on. \n",
    "\n",
    "Some examples:"
   ]
  },
  {
   "cell_type": "code",
   "execution_count": 4,
   "id": "b42a7834-e3e3-48f2-ab83-ea2461fa1f54",
   "metadata": {},
   "outputs": [
    {
     "name": "stdout",
     "output_type": "stream",
     "text": [
      "This is an array from a sequence (ndim= 1 ) [1.5 2.  3. ]\n"
     ]
    }
   ],
   "source": [
    "array_from_seq = np.array([1.5, 2, 3])\n",
    "print('This is an array from a sequence (ndim=', array_from_seq.ndim,')', array_from_seq)"
   ]
  },
  {
   "cell_type": "code",
   "execution_count": 5,
   "id": "25b6c2a2-0da6-4852-b198-d12ca9101db7",
   "metadata": {},
   "outputs": [
    {
     "name": "stdout",
     "output_type": "stream",
     "text": [
      "This is an array from a sequence of sequences (ndim= 2 )\n"
     ]
    },
    {
     "data": {
      "text/plain": [
       "array([[1.5, 2. , 3. ],\n",
       "       [4. , 5. , 6. ]])"
      ]
     },
     "execution_count": 5,
     "metadata": {},
     "output_type": "execute_result"
    }
   ],
   "source": [
    "array_from_seq_seq = np.array([(1.5, 2, 3), (4, 5, 6)])\n",
    "print('This is an array from a sequence of sequences (ndim=', array_from_seq_seq.ndim,')')\n",
    "array_from_seq_seq"
   ]
  },
  {
   "cell_type": "code",
   "execution_count": 6,
   "id": "70d566ca-9d6c-4468-9c66-d44b098310e8",
   "metadata": {},
   "outputs": [
    {
     "name": "stdout",
     "output_type": "stream",
     "text": [
      "This is an array from a sequence of sequences of sequences (ndim= 3 )\n"
     ]
    },
    {
     "data": {
      "text/plain": [
       "array([[[1.5+0.j, 2. +0.j, 3. +0.j],\n",
       "        [4. +0.j, 5. +0.j, 6. +0.j]],\n",
       "\n",
       "       [[1.5+0.j, 2. +0.j, 3. +0.j],\n",
       "        [4. +0.j, 5. +0.j, 6. +0.j]]])"
      ]
     },
     "execution_count": 6,
     "metadata": {},
     "output_type": "execute_result"
    }
   ],
   "source": [
    "array_from_seq_seq_seq = np.array([[(1.5, 2, 3), (4, 5, 6)], [(1.5, 2, 3), (4, 5, 6)]], dtype=complex) # We have specified the type of the elements as complex\n",
    "print('This is an array from a sequence of sequences of sequences (ndim=', array_from_seq_seq_seq.ndim,')')\n",
    "array_from_seq_seq_seq"
   ]
  },
  {
   "cell_type": "markdown",
   "id": "e22173c2-fe63-404a-8a5c-bda8c1c453d6",
   "metadata": {},
   "source": [
    "By default, NumPy will creat an array as of dtype `float64`. However, as we saw in the previous example, it is possible to specify the dtype during the array creation, by using the reserved word `dtype` in the constructor.\n",
    "\n",
    "Alternatively, NumPy offers several functions to create arrays with initial placeholder content. These minimize the necessity of growing arrays, an expensive operation. The function zeros creates an array full of zeros, the function ones creates an array full of ones, and the function empty creates an array whose initial content is random and depends on the state of the memory. By default, the dtype of the created array is float64, but it can be specified via the key word argument dtype.\n",
    "\n",
    "**Examples:**"
   ]
  },
  {
   "cell_type": "code",
   "execution_count": 7,
   "id": "8a7530e3-4f00-49e4-b6e9-fdb50e4722a2",
   "metadata": {},
   "outputs": [
    {
     "data": {
      "text/plain": [
       "array([[0., 0.],\n",
       "       [0., 0.]])"
      ]
     },
     "execution_count": 7,
     "metadata": {},
     "output_type": "execute_result"
    }
   ],
   "source": [
    "np.zeros((2, 2))"
   ]
  },
  {
   "cell_type": "code",
   "execution_count": 8,
   "id": "28ad10a3-b7ab-4e37-9d88-84b198fb4385",
   "metadata": {},
   "outputs": [
    {
     "data": {
      "text/plain": [
       "array([[[1, 1, 1, 1],\n",
       "        [1, 1, 1, 1],\n",
       "        [1, 1, 1, 1]],\n",
       "\n",
       "       [[1, 1, 1, 1],\n",
       "        [1, 1, 1, 1],\n",
       "        [1, 1, 1, 1]]], dtype=int16)"
      ]
     },
     "execution_count": 8,
     "metadata": {},
     "output_type": "execute_result"
    }
   ],
   "source": [
    "np.ones((2, 3, 4), dtype=np.int16)"
   ]
  },
  {
   "cell_type": "code",
   "execution_count": 9,
   "id": "ebbb70b7-2b0d-4803-9aa0-a5961d1d01fc",
   "metadata": {},
   "outputs": [
    {
     "data": {
      "text/plain": [
       "array([[0.00000000e+000, 0.00000000e+000, 0.00000000e+000],\n",
       "       [0.00000000e+000, 0.00000000e+000, 8.02362609e-321],\n",
       "       [1.06099790e-312, 8.70018274e-313, 2.04721870e-306]])"
      ]
     },
     "execution_count": 9,
     "metadata": {},
     "output_type": "execute_result"
    }
   ],
   "source": [
    "np.empty((3, 3))"
   ]
  },
  {
   "cell_type": "markdown",
   "id": "479f6f66-ea2b-45c6-ad09-79768d6c6357",
   "metadata": {},
   "source": [
    "### Reshaping Arrays\n",
    "An array has a shape given by the number of elements along each axis. This can be be changed with various commands. Some of these will return an array with the new shape, whereas othere will modify *in place* the current array.\n",
    "\n",
    "**Methods that do not change the shape in-place:** These are `ravel`, `reshape` and the property `T`. Examples:"
   ]
  },
  {
   "cell_type": "code",
   "execution_count": 10,
   "id": "7dcc9a8e-5d8c-4bce-bc87-45cdcff89a63",
   "metadata": {},
   "outputs": [
    {
     "data": {
      "text/plain": [
       "array([[1, 1, 2],\n",
       "       [0, 1, 0],\n",
       "       [3, 2, 1],\n",
       "       [5, 5, 5]])"
      ]
     },
     "execution_count": 10,
     "metadata": {},
     "output_type": "execute_result"
    }
   ],
   "source": [
    "A = np.array([[1, 1, 2], [0, 1, 0], [3, 2, 1], [5, 5, 5]])\n",
    "A"
   ]
  },
  {
   "cell_type": "code",
   "execution_count": 11,
   "id": "3970ad99-ab96-4c7f-a97d-ae670547a95c",
   "metadata": {},
   "outputs": [
    {
     "name": "stdout",
     "output_type": "stream",
     "text": [
      "ravel flattens the array\n"
     ]
    },
    {
     "data": {
      "text/plain": [
       "array([1, 1, 2, 0, 1, 0, 3, 2, 1, 5, 5, 5])"
      ]
     },
     "execution_count": 11,
     "metadata": {},
     "output_type": "execute_result"
    }
   ],
   "source": [
    "print('ravel flattens the array')\n",
    "A.ravel()"
   ]
  },
  {
   "cell_type": "code",
   "execution_count": 12,
   "id": "f5393e95-9904-4dff-a3c1-6b6ed20f9d42",
   "metadata": {},
   "outputs": [
    {
     "name": "stdout",
     "output_type": "stream",
     "text": [
      "reshape returns the array with a modified shape\n"
     ]
    },
    {
     "data": {
      "text/plain": [
       "array([[1, 1, 2, 0, 1, 0],\n",
       "       [3, 2, 1, 5, 5, 5]])"
      ]
     },
     "execution_count": 12,
     "metadata": {},
     "output_type": "execute_result"
    }
   ],
   "source": [
    "print('reshape returns the array with a modified shape')\n",
    "A.reshape(2, 6)"
   ]
  },
  {
   "cell_type": "code",
   "execution_count": 13,
   "id": "b4ec0a68-d44a-4262-944b-c5dc35869ce9",
   "metadata": {},
   "outputs": [
    {
     "name": "stdout",
     "output_type": "stream",
     "text": [
      "A.T returns the array transposed\n"
     ]
    },
    {
     "data": {
      "text/plain": [
       "array([[1, 0, 3, 5],\n",
       "       [1, 1, 2, 5],\n",
       "       [2, 0, 1, 5]])"
      ]
     },
     "execution_count": 13,
     "metadata": {},
     "output_type": "execute_result"
    }
   ],
   "source": [
    "print('A.T returns the array transposed')\n",
    "A.T"
   ]
  },
  {
   "cell_type": "markdown",
   "id": "750eb00f-b9bd-435f-aac5-2b8d20a4d649",
   "metadata": {},
   "source": [
    "**Methods that change the shape in-place:** This is `resize`. Examples:"
   ]
  },
  {
   "cell_type": "code",
   "execution_count": 14,
   "id": "b298af13-dd93-4885-836a-0b5133cc8eac",
   "metadata": {
    "tags": []
   },
   "outputs": [
    {
     "name": "stdout",
     "output_type": "stream",
     "text": [
      "B: [[1 1 2]\n",
      " [0 1 0]\n",
      " [3 2 1]\n",
      " [5 5 5]]\n",
      "After resize:\n"
     ]
    },
    {
     "data": {
      "text/plain": [
       "array([[1, 1, 2, 0, 1, 0],\n",
       "       [3, 2, 1, 5, 5, 5]])"
      ]
     },
     "execution_count": 14,
     "metadata": {},
     "output_type": "execute_result"
    }
   ],
   "source": [
    "B = np.array([[1, 1, 2], [0, 1, 0], [3, 2, 1], [5, 5, 5]])\n",
    "print('B:',B)\n",
    "\n",
    "print('After resize:')\n",
    "B.resize((2, 6))\n",
    "B"
   ]
  },
  {
   "cell_type": "markdown",
   "id": "d5802379-f711-45aa-b825-189c24806d2d",
   "metadata": {},
   "source": [
    "## 3. Basic Operations\n",
    "Arithmetic operators on arrays apply elementwise. The result of the operation is a newly created array.\n",
    "\n",
    "**Examples:**"
   ]
  },
  {
   "cell_type": "code",
   "execution_count": 15,
   "id": "3f286540-dcb5-446d-95b5-b0d9fa1f9d5c",
   "metadata": {},
   "outputs": [
    {
     "name": "stdout",
     "output_type": "stream",
     "text": [
      "a - b = [ 5 14 23 32]\n",
      "a + b = [15 26 37 48]\n",
      "2 * a = [20 40 60 80]\n",
      "a > 25 = [False False  True  True]\n",
      "a * b = [ 50 120 210 320]\n",
      "a / b = [2.         3.33333333 4.28571429 5.        ]\n"
     ]
    }
   ],
   "source": [
    "a = np.array([10, 20, 30, 40])\n",
    "b = np.array([5, 6, 7, 8])\n",
    "\n",
    "c = a - b\n",
    "d = a + b\n",
    "e = 2*a\n",
    "f = a > 25\n",
    "g = a * b\n",
    "h = a / b\n",
    "print('a - b =', c)\n",
    "print('a + b =', d)\n",
    "print('2 * a =', e)\n",
    "print('a > 25 =', f)\n",
    "print('a * b =', g)\n",
    "print('a / b =', h)"
   ]
  },
  {
   "cell_type": "markdown",
   "id": "5951a821-c711-4e97-b1d8-9178b62849e9",
   "metadata": {},
   "source": [
    "Operators such as `+=` or `*=` are an exception. They modify *in-place* the array without generating a new one.\n",
    "\n",
    "**Example:**"
   ]
  },
  {
   "cell_type": "code",
   "execution_count": null,
   "id": "3c9c5de9-16b5-4c50-afa8-21bd10a975f1",
   "metadata": {},
   "outputs": [],
   "source": [
    "a *= 3\n",
    "a"
   ]
  },
  {
   "cell_type": "code",
   "execution_count": null,
   "id": "b55fe77c-47d0-45a6-9419-08b3e44de8dc",
   "metadata": {},
   "outputs": [],
   "source": [
    "b -= 4\n",
    "b"
   ]
  },
  {
   "cell_type": "markdown",
   "id": "e3d4e4c3-73dd-488d-81b0-7eb2e2f3eedc",
   "metadata": {},
   "source": [
    "### Matrix multiplication\n",
    "Unlike other common languages operating on matrices (e.g. Matlab), the product operator `*` operates elementwise in NumPy arrays, as in the previous example.\n",
    "The matrix product can be performed using the `@` operator (Python >=3.5) or the `dot` function :"
   ]
  },
  {
   "cell_type": "code",
   "execution_count": 16,
   "id": "ede39a40-b776-4fb5-8a45-339df36346d2",
   "metadata": {},
   "outputs": [
    {
     "data": {
      "text/plain": [
       "array([[1., 1.],\n",
       "       [0., 1.]])"
      ]
     },
     "execution_count": 16,
     "metadata": {},
     "output_type": "execute_result"
    }
   ],
   "source": [
    "A = np.array([[1, 1], [0, 1]])\n",
    "B = np.ones((2,2))\n",
    "            \n",
    "A * B  #Element-wise multiplication"
   ]
  },
  {
   "cell_type": "code",
   "execution_count": 17,
   "id": "27e694fc-638f-4d5b-a734-19bd41fe77d4",
   "metadata": {},
   "outputs": [
    {
     "data": {
      "text/plain": [
       "array([[2., 2.],\n",
       "       [1., 1.]])"
      ]
     },
     "execution_count": 17,
     "metadata": {},
     "output_type": "execute_result"
    }
   ],
   "source": [
    "A @ B #Matrix multiplication"
   ]
  },
  {
   "cell_type": "code",
   "execution_count": 18,
   "id": "e98f53ce-8a31-48d2-8724-975730af18ff",
   "metadata": {},
   "outputs": [
    {
     "data": {
      "text/plain": [
       "array([[2., 2.],\n",
       "       [1., 1.]])"
      ]
     },
     "execution_count": 18,
     "metadata": {},
     "output_type": "execute_result"
    }
   ],
   "source": [
    "A.dot(B) #Using the dot product function is an alternative to matrix multiplication"
   ]
  },
  {
   "cell_type": "markdown",
   "id": "a6a432c8-101a-4117-8a84-bdaa4979ce80",
   "metadata": {},
   "source": [
    "### Exercise 1\n",
    "Generate a 1D array of length 10 of powers of 2, i.e. $[2^0, 2^1, ..., 2^9]$.\n",
    "\n",
    "You **should not** generaete it *manually*"
   ]
  },
  {
   "cell_type": "code",
   "execution_count": 30,
   "id": "e8e8f5e4-2ca6-401c-aabb-7e6a4ca99fbc",
   "metadata": {},
   "outputs": [
    {
     "name": "stdout",
     "output_type": "stream",
     "text": [
      "pows:\n",
      "[  1   2   4   8  16  32  64 128 256 512]\n",
      "\n"
     ]
    }
   ],
   "source": [
    "#Your code in this block\n",
    "pows = np.full(10,2)**np.arange(10) #Replace None with your code\n",
    "\n",
    "print(f'pows:\\n{pows}\\n')"
   ]
  },
  {
   "cell_type": "markdown",
   "id": "880714f1-ada5-4b8e-980a-a53a5030ba89",
   "metadata": {},
   "source": [
    "## 4. Functions\n",
    "Many unary operations, such as computing the sum of all the elements in the array, are implemented as methods of the ndarray class."
   ]
  },
  {
   "cell_type": "code",
   "execution_count": null,
   "id": "37dec799-7217-4140-b47f-91424eedaf6f",
   "metadata": {},
   "outputs": [],
   "source": [
    "A = np.array([\n",
    "     [1, 2, 3, 4],\n",
    "     [5, 6, 7, 8],\n",
    "     [9, 10, 11, 12],\n",
    "    ])\n",
    "\n",
    "print('Sum of elements in A', A.sum())\n",
    "print('Min value in A', A.min())\n",
    "print('Max value in A', A.max())"
   ]
  },
  {
   "cell_type": "markdown",
   "id": "c234791c-0f6a-422a-9a9f-dda50e9600a6",
   "metadata": {},
   "source": [
    "By specifying the axis parameter you can apply an operation along the specified axis of an array:"
   ]
  },
  {
   "cell_type": "code",
   "execution_count": null,
   "id": "ca21d784-7ce9-4e19-a0ac-942ca9c3b4e7",
   "metadata": {},
   "outputs": [],
   "source": [
    "print('Sum of elements in A axis 0', A.sum(axis=0))\n",
    "print('Min value in A axis 1', A.min(axis=1))\n",
    "print('Max value in A axis 1', A.max(axis=1))"
   ]
  },
  {
   "cell_type": "markdown",
   "id": "7f59152c-bc9a-4e1e-b026-791186e68b85",
   "metadata": {},
   "source": [
    "### Universal Functions\n",
    "NumPy provides familiar mathematical functions such as sin, cos, and exp. In NumPy, these are called “universal functions” (`ufunc`). These functions operate elementwise on an array, producing an array as output."
   ]
  },
  {
   "cell_type": "code",
   "execution_count": null,
   "id": "03e17035-43ab-4c9c-8dfd-1aadb0131b54",
   "metadata": {},
   "outputs": [],
   "source": [
    "from math import pi\n",
    "\n",
    "logarithm=np.log(A) #Log function\n",
    "sinusoidal=np.sin(2*pi*A) #sinusoidal\n",
    "squared_root=np.sqrt(A) #squared root\n",
    "\n",
    "B = 10*A\n",
    "AB_sum = np.add(A,B) #Sum of two arrays can also be done through a function\n",
    "\n",
    "print('log(A):', logarithm)\n",
    "print('sin(2*pi*A):', sinusoidal)\n",
    "print('sqrt(A):', squared_root)\n",
    "print('add(A,B):', AB_sum) \n",
    "print('is equivalent to A + B', A + B)"
   ]
  },
  {
   "cell_type": "markdown",
   "id": "fac4d597-19ea-4015-ae49-fda3f5118a61",
   "metadata": {},
   "source": [
    "This is a summary of the universal functions available:\n",
    "\n",
    "<img src=\"./images/all_universal.PNG\" width=\"900\">\n",
    "For further information about NumPy's functions, visit the official documentation."
   ]
  },
  {
   "cell_type": "markdown",
   "id": "8e668ae4-2cf0-4eed-b43a-e1bdceb4c84f",
   "metadata": {},
   "source": [
    "### Exercise 2\n",
    "1. Create a one dimensional array that goes from 0 to 10 in steps 0f 0.1. Store this array in a variable named x. Hint: Check the documentation of the NumPy function arange()\n",
    "2. Create an array as $\\sin \\left(\\dfrac{2*\\pi * x}{2} \\right)$. \n",
    "   Store it in a variable named y.\n",
    "3. Place your code in the cell below and execute it\n",
    "4. Execute the cell after your code. If your code works you should see a plot like this:\n",
    "\n",
    "<img src=\"./images/sinusoidal.PNG\" width=\"500\">\n"
   ]
  },
  {
   "cell_type": "code",
   "execution_count": 31,
   "id": "8bb0cdcf-6bc6-4820-b6c7-ad08627d075c",
   "metadata": {},
   "outputs": [],
   "source": [
    "# Your code here\n",
    "x = np.arange(0,10,0.1)\n",
    "y = np.sin(x*np.pi)"
   ]
  },
  {
   "cell_type": "code",
   "execution_count": 32,
   "id": "14d9dbc3-42a6-4965-8f19-ee9aee71dc18",
   "metadata": {},
   "outputs": [
    {
     "data": {
      "image/png": "[encoded data removed]",
      "text/plain": [
       "<Figure size 640x480 with 1 Axes>"
      ]
     },
     "metadata": {},
     "output_type": "display_data"
    }
   ],
   "source": [
    "#Execute this cell. You should see the plot, if your code works.\n",
    "import matplotlib.pyplot as plt\n",
    "\n",
    "plt.plot(x,y)\n",
    "plt.show()"
   ]
  },
  {
   "cell_type": "markdown",
   "id": "7a4c5129-74f1-4231-bfed-d4b8d73fd5d2",
   "metadata": {},
   "source": [
    "### Linear Algebra\n",
    "The most common linear algebra operators which will may use during the course for vectors (1D arrays) and matrices (2D arrays):\n",
    "\n",
    "* `np.matmul` - Scalar product, vector-matrix or matrix-matrix multiplication (very similar to np.dot).\n",
    "* `@` - The same as np.matmul.\n",
    "* `np.linalg.inv` - Matrix inversion.\n",
    "* `np.linalg.norm` - Norm computation (L2 norm by default).\n",
    "* `np.linalg.solve` - Numerically stable solution to a system of linear equations given as Ax = b.\n",
    "* `x.T` - Transposition.\n",
    "\n",
    "**Examples:**"
   ]
  },
  {
   "cell_type": "code",
   "execution_count": null,
   "id": "d0c18db9-8e99-44ea-884e-5c884efdb7fd",
   "metadata": {},
   "outputs": [],
   "source": [
    "## Matrix multiplication.\n",
    "m1 = np.eye(3)\n",
    "m2 = np.random.uniform(-10., 10., (3, 8))\n",
    "m_mult = m1 @ m2\n",
    "\n",
    "m_mult_2 = np.matmul(m1,m2)\n",
    "\n",
    "print(f'First multiplication:\\n{m_mult}\\n')\n",
    "print(f'Second multiplication:\\n{m_mult_2}\\n')\n",
    "\n",
    "m2_trans = m2.T\n",
    "\n",
    "print(f'M2:\\n{m2}\\n')\n",
    "print(f'M2 transposed:\\n{m2_trans}\\n')"
   ]
  },
  {
   "cell_type": "markdown",
   "id": "7e33998a-ffe5-4f42-b6b2-9ba274497090",
   "metadata": {},
   "source": [
    "## 5. Array Indexing\n",
    "Numpy proposes multiple ways to access the elements of an array. \n",
    "\n",
    "### Slicing\n",
    "Slincing in NumPy has the same behavior as in python lists. It means taking elements from one given index to another given index.\n",
    "\n",
    "* To select a slice instead of an index : `[start:end]`.\n",
    "* It is also possible to define the step: `[start:end:step]`\n",
    "* If the start is not defined is considered `0`\n",
    "* If the end is not defined is considered  length of array in that dimension\n",
    "* If the step is not defined is considered `1`\n",
    "* If negative values are used the count starts from the last element in the given dimension\n"
   ]
  },
  {
   "cell_type": "code",
   "execution_count": null,
   "id": "67f36dfe-ea30-4895-a271-073bf8447f2f",
   "metadata": {},
   "outputs": [],
   "source": [
    "# Create the following rank 2 array with shape (3, 4)\n",
    "# [[ 1  2  3  4]\n",
    "#  [ 5  6  7  8]\n",
    "#  [ 9 10 11 12]]\n",
    "a = np.arange(1,13).reshape(3, 4) \n",
    "\n",
    "# Use slicing to pull out the subarray consisting of the first 2 rows\n",
    "# and columns 1 and 2; b is the following array of shape (2, 2):\n",
    "# [[2 3]\n",
    "#  [6 7]]\n",
    "b = a[:2, 1:3]\n",
    "print(b)\n",
    "\n",
    "# A slice of an array is a view into the same data, so modifying it\n",
    "# will modify the original array.\n",
    "print(a[0, 1])   # Prints \"2\"\n",
    "b[0, 0] = 77     # b[0, 0] is the same piece of data as a[0, 1]\n",
    "print(a[0, 1])   # Prints \"77\"\n",
    "\n",
    "# Slice taking one element every 2 elements.\n",
    "c = a[::2,::2]\n",
    "print(c) #prints [[1 3] [9 11]]\n",
    "\n",
    "d = a[-1:,] #prints [[ 9 10 11 12]]\n",
    "print(d)"
   ]
  },
  {
   "cell_type": "markdown",
   "id": "895fe357-35f2-4b96-b239-5dfac404fd5a",
   "metadata": {},
   "source": [
    "You can also mix integer indexing with slice indexing. However, doing so will yield an array of lower rank than the original array. "
   ]
  },
  {
   "cell_type": "code",
   "execution_count": 33,
   "id": "ad7ed1b5-21a0-4891-974d-abfcdd56e423",
   "metadata": {},
   "outputs": [
    {
     "name": "stdout",
     "output_type": "stream",
     "text": [
      "[5 6 7 8] (4,)\n",
      "[[5 6 7 8]] (1, 4)\n"
     ]
    }
   ],
   "source": [
    "a = np.arange(1,13).reshape(3, 4) \n",
    "\n",
    "row_r1 = a[1, :]    # Rank 1 view of the second row of a\n",
    "row_r2 = a[1:2, :]  # Rank 2 view of the second row of a\n",
    "\n",
    "print(row_r1, row_r1.shape)  # Prints \"[5 6 7 8] (4,)\"\n",
    "print(row_r2, row_r2.shape)  # Prints \"[[5 6 7 8]] (1, 4)\" "
   ]
  },
  {
   "cell_type": "markdown",
   "id": "2f63ae9f-87f5-4fbd-9679-e463abc5039b",
   "metadata": {},
   "source": [
    "### Array of Indices\n",
    "NumPy allows for providing a list of integer indices for every axis."
   ]
  },
  {
   "cell_type": "code",
   "execution_count": 34,
   "id": "842ca8dd-2fa9-4f44-9831-4ea8ef41e2d0",
   "metadata": {},
   "outputs": [
    {
     "name": "stdout",
     "output_type": "stream",
     "text": [
      "[1 4 5]\n",
      "[1 4 5]\n",
      "[2 2]\n",
      "[2 2]\n"
     ]
    }
   ],
   "source": [
    "a = np.array([[1,2], [3, 4], [5, 6]])\n",
    "\n",
    "# An example of integer array indexing.\n",
    "# The returned array will have shape (3,) and\n",
    "print(a[[0, 1, 2], [0, 1, 0]])  # Prints \"[1 4 5]\"\n",
    "\n",
    "# The above example of array of indices is equivalent to the following integer indexing:\n",
    "print(np.array([a[0, 0], a[1, 1], a[2, 0]]))  # Prints \"[1 4 5]\"\n",
    "\n",
    "# When using array of indices, you can reuse the same# element from the source array:\n",
    "print(a[[0, 0], [1, 1]])  # Prints \"[2 2]\"\n",
    "\n",
    "# Equivalent to the previous iarray of indices example\n",
    "print(np.array([a[0, 1], a[0, 1]]))  # Prints \"[2 2]\""
   ]
  },
  {
   "cell_type": "markdown",
   "id": "16d88f4e-83d7-40d8-a779-77d6826a69b2",
   "metadata": {},
   "source": [
    "**Example:** Selecting and mutating one element from each row of a matrix"
   ]
  },
  {
   "cell_type": "code",
   "execution_count": null,
   "id": "dfff4a4c-4856-4671-87ad-75db9947a269",
   "metadata": {},
   "outputs": [],
   "source": [
    "# Create a new array from which we will select elements\n",
    "a = np.arange(1,13).reshape(4, 3) \n",
    "\n",
    "print(a)  # prints \"[[ 1,  2,  3],\n",
    "          #         [ 4,  5,  6],\n",
    "          #         [ 7,  8,  9],\n",
    "          #         [10, 11, 12]]\"\n",
    "\n",
    "# Create an array of indices\n",
    "b = np.array([0, 2, 0, 1])\n",
    "\n",
    "# Select one element from each row of a using the indices in b\n",
    "print(a[np.arange(4), b])  # Prints \"[ 1  6  7 11]\"\n",
    "\n",
    "# Mutate one element from each row of a using the indices in b\n",
    "a[np.arange(4), b] += 10\n",
    "\n",
    "print(a)  # prints \"array([[11,  2,  3],\n",
    "          #                [ 4,  5, 16],\n",
    "          #                [17,  8,  9],\n",
    "          #                [10, 21, 12]])"
   ]
  },
  {
   "cell_type": "markdown",
   "id": "871bc69d-b7f6-42b9-9d90-b8b5662d21ab",
   "metadata": {},
   "source": [
    "### Masking \n",
    "Another way to indexing is bt using boolean arrays representing a binary mask. The mask needs to have the same shape as the indexed array, or it must match along the first dimensions (where the last dimensions are taken as is). A boolean array can only contain boolean values `True` and `False`.\n",
    "\n",
    "Frequently this type of indexing is used to select the elements of an array that satisfy some condition. "
   ]
  },
  {
   "cell_type": "code",
   "execution_count": null,
   "id": "de921820-4dbf-43cb-be83-17048860ad35",
   "metadata": {},
   "outputs": [],
   "source": [
    "a = np.arange(1,13).reshape(3, 4) \n",
    "print(a) \n",
    "# prints [[ 1  2  3  4]\n",
    "#         [ 5  6  7  8]\n",
    "#         [ 9 10 11 12]]\n",
    "\n",
    "# Creating the mask manually.\n",
    "mask = np.zeros((3, 4), dtype=bool)\n",
    "mask[0, 1:4] = True\n",
    "mask[2, 2] = True\n",
    "mask[-2, -2:] = True\n",
    "print(mask) #prints [[False  True  True  True]  [False False True true]  [False False  True  False]]\n",
    "\n",
    "print(a[mask]) #prints array([ 2,  3,  4,  7,  8, 11])"
   ]
  },
  {
   "cell_type": "code",
   "execution_count": null,
   "id": "4bd1167c-d9e0-4a3c-af5f-1b8c0e1d28f3",
   "metadata": {},
   "outputs": [],
   "source": [
    "a = np.array([[1,2], [3, 4], [5, 6]])\n",
    "\n",
    "bool_idx = (a > 2)   # Find the elements of a that are bigger than 2;\n",
    "                     # this returns a numpy array of Booleans of the same\n",
    "                     # shape as a, where each slot of bool_idx tells\n",
    "                     # whether that element of a is > 2.\n",
    "\n",
    "print(bool_idx)      # Prints \"[[False False]\n",
    "                     #          [ True  True]\n",
    "                     #          [ True  True]]\"\n",
    "\n",
    "# We use boolean array indexing to construct a rank 1 array\n",
    "# consisting of the elements of a corresponding to the True values\n",
    "# of bool_idx\n",
    "print(a[bool_idx])  # Prints \"[3 4 5 6]\"\n",
    "\n",
    "# The same procedure can be done through a single concise statement:\n",
    "print(a[a > 2])     # Prints \"[3 4 5 6]\""
   ]
  },
  {
   "cell_type": "markdown",
   "id": "cbc96a52-736f-4b78-bd55-e1e2be83976b",
   "metadata": {},
   "source": [
    "### Structural indexing\n",
    "NumPy introduces an object np.newaxis and an ellipsis syntax to facilitate indexing/reshaping.\n",
    "* NewAxis - `np.newaxis` can be used within square brackets to create a new empty axis. It is equivalent to using a None instead.\n",
    "* ellipsis - this operator which is written `...` stands for \"as many as needed\" consecutive symbols `:` used when slicing a multidimensional array."
   ]
  },
  {
   "cell_type": "code",
   "execution_count": null,
   "id": "fb34abfd-4dde-411c-9ef4-592695369793",
   "metadata": {},
   "outputs": [],
   "source": [
    "#np.newaxis\n",
    "col_vec = np.array([1, 2, 3])\n",
    "print(col_vec)\n",
    "print(col_vec.shape) #prints (3, )\n",
    "\n",
    "new_col_vec = col_vec[:, np.newaxis]  # or col_vec[:, None]\n",
    "print(new_col_vec.shape) #prints (3, 1)\n",
    "\n",
    "#This can be done equally as\n",
    "newer_col_vec =  col_vec[:, None]\n",
    "print(newer_col_vec.shape) #prints (3, 1)\n",
    "\n",
    "print(new_col_vec) # prints [[1]\n",
    "                   #         [2]\n",
    "                   #         [3]]"
   ]
  },
  {
   "cell_type": "code",
   "execution_count": null,
   "id": "ea48b29e-b5d7-473a-bedc-2044f98c80be",
   "metadata": {},
   "outputs": [],
   "source": [
    "x = np.ones((3, 4, 5, 6))\n",
    "\n",
    "x[0,3,3,3] =10 #Mutation of an element in x\n",
    "print(x.shape) # prints (2, 3, 4, 5)\n",
    "\n",
    "a = x[0, :, :, 3]\n",
    "b = x[0, ..., 3] #equivalent to the above expression\n",
    "\n",
    "print(a.shape) #print (4, 5)\n",
    "print(b.shape) #print (4, 5)\n",
    "\n",
    "np.allclose(a,b) #allclose returns True if two arrays are element-wise equal within a tolerance. The tolerance values are positive, typically very small numbers."
   ]
  },
  {
   "cell_type": "markdown",
   "id": "7882dae0-498b-4399-83a0-640935e07227",
   "metadata": {},
   "source": [
    "### Exercise 3\n",
    "Using the slicing and indexing techniques seen so far, extract the blue, red and green subarrays as per the figure below.\n",
    "\n",
    "<img src=\"./images/slicing_exercise.PNG\" width=\"250\">"
   ]
  },
  {
   "cell_type": "code",
   "execution_count": null,
   "id": "fb004945-1798-4b9e-b051-f5d19e17ba30",
   "metadata": {},
   "outputs": [],
   "source": [
    "full_array = np.arange(30).reshape(6, 5) + 1\n",
    "print(full_array)\n",
    "#blue_sub_array = #Your code here\n",
    "#red_sub_array = #Your code here\n",
    "#green_sub_array = #Your code here"
   ]
  },
  {
   "cell_type": "code",
   "execution_count": null,
   "id": "2499a5bc-a14d-4c2c-9196-b7b260a02222",
   "metadata": {},
   "outputs": [],
   "source": [
    "full_array = np.arange(30).reshape(6, 5) + 1\n",
    "print(f'Matrix:\\n{full_array}\\n')\n",
    "\n",
    "blue_sub_array = None #Replace with your code\n",
    "print(f'blue:\\n{blue_sub_array}\\n')\n",
    "\n",
    "\n",
    "red_sub_array = None #Replace with your code\n",
    "print(f'red:\\n{red_sub_array}\\n')\n",
    "\n",
    "\n",
    "green_sub_array = None #Replace with your code\n",
    "print(f'green:\\n{green_sub_array}\\n')\n",
    "\n",
    "# Bonus: Come up with indexing which selects from the original matrix the following submatrix:\n",
    "# [[29, 28], \n",
    "#  [9, 8]]\n",
    "\n",
    "bonus_sub_array = None #Replace with your code\n",
    "print(f'bonus:\\n{bonus_sub_array}\\n')\n",
    "\n",
    "# Check the results:\n",
    "assert(np.allclose(blue_sub_array, np.array([[1, 5], [6, 10], [11, 15], [16, 20], [21, 25], [26, 30]])))\n",
    "assert(np.allclose(red_sub_array, np.array([[8, 9], [18, 19], [28, 29]])))\n",
    "assert(np.allclose(green_sub_array, np.array([12, 13, 14])))\n",
    "assert(np.allclose(bonus_sub_array, np.array([[29, 28], [9, 8]])))"
   ]
  },
  {
   "cell_type": "markdown",
   "id": "d1b9c05b-f888-4e97-8b10-0854c9b4b372",
   "metadata": {},
   "source": [
    "## 6. Iterating\n",
    "An ND array can be expressed as a list of N-1 dimensional arrays.\n",
    "\n",
    "For instance, a 3D array `x` can be though as a list of 2D matrices, where the first matrix can be access via `x=[0,:,:]` or equivalently `x[0]`.\n",
    "\n",
    "By conceiving an array as a list of arrays, we can use what we know about iterating over lists using `for` or `while` loops."
   ]
  },
  {
   "cell_type": "code",
   "execution_count": null,
   "id": "39ddd673-e5ae-4da6-86f2-879a13af9a18",
   "metadata": {},
   "outputs": [],
   "source": [
    "# Let us create a 3D array, iterate through it's slices, i.e. matrices, and \n",
    "# find the trace of every matrix.\n",
    "x = np.random.uniform(0, 10, (5, 10, 10))\n",
    "\n",
    "for i, matrix in enumerate(x):\n",
    "    print(f'Trace of matrix {i}: {np.trace(matrix)}')"
   ]
  },
  {
   "cell_type": "markdown",
   "id": "e4a69f1f-cd8e-46bb-bd5c-434fa16797b4",
   "metadata": {},
   "source": [
    "**Important:** In many cases, it is best to avoid using the `for` and `while` loops as they are not very fast. Where possible, the use of vectorization should be prefered as it achieves the same results, while being much faster."
   ]
  },
  {
   "cell_type": "markdown",
   "id": "ff099b6f-0971-415e-bcb2-da61bfff5848",
   "metadata": {},
   "source": [
    "## 7. Other Resources\n",
    "The web is full of resources and tutorials about NumPy. A good starting point can be:\n",
    "\n",
    "1. NumPy basics: https://docs.scipy.org/doc/numpy/user/basics.html\n",
    "2. Official NumPy tutorial: https://docs.scipy.org/doc/numpy/user/quickstart.html\n"
   ]
  },
  {
   "cell_type": "code",
   "execution_count": null,
   "id": "a8edef8c-de85-4ae3-a6d7-5031a125227a",
   "metadata": {},
   "outputs": [],
   "source": []
  }
 ],
 "metadata": {
  "kernelspec": {
   "display_name": "Python 3 (ipykernel)",
   "language": "python",
   "name": "python3"
  },
  "language_info": {
   "codemirror_mode": {
    "name": "ipython",
    "version": 3
   },
   "file_extension": ".py",
   "mimetype": "text/x-python",
   "name": "python",
   "nbconvert_exporter": "python",
   "pygments_lexer": "ipython3",
   "version": "3.8.13"
  }
 },
 "nbformat": 4,
 "nbformat_minor": 5
}
